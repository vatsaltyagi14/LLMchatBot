{
 "cells": [
  {
   "cell_type": "code",
   "execution_count": null,
   "metadata": {},
   "outputs": [],
   "source": []
  },
  {
   "cell_type": "code",
   "execution_count": null,
   "metadata": {
    "id": "UmvKIrhUvpOL"
   },
   "outputs": [
    {
     "name": "stdout",
     "output_type": "stream",
     "text": [
      "Chat with Llama 3.2 (Type 'exit' to end the conversation)\n"
     ]
    }
   ],
   "source": [
    "import ollama\n",
    "\n",
    "def chat_with_llama():\n",
    "    model_name = 'llama3.2:3b'  # You can change this to 'llama3.2:1b' if you downloaded the 1B model\n",
    "    \n",
    "    print(\"Chat with Llama 3.2 (Type 'exit' to end the conversation)\")\n",
    "    \n",
    "    while True:\n",
    "        user_input = input(\"You: \")\n",
    "        \n",
    "        if user_input.lower() == 'exit':\n",
    "            print(\"Ending conversation. Goodbye!\")\n",
    "            break\n",
    "        \n",
    "        response = ollama.chat(model=model_name, messages=[\n",
    "            {\n",
    "                'role': 'user',\n",
    "                'content': user_input,\n",
    "            },\n",
    "        ])\n",
    "        \n",
    "        assistant_response = response['message']['content']\n",
    "        print(\"Llama:\", assistant_response)\n",
    "\n",
    "if __name__ == \"__main__\":\n",
    "    chat_with_llama()\n"
   ]
  }
 ],
 "metadata": {
  "colab": {
   "provenance": []
  },
  "kernelspec": {
   "display_name": "Python 3",
   "name": "python3"
  },
  "language_info": {
   "codemirror_mode": {
    "name": "ipython",
    "version": 3
   },
   "file_extension": ".py",
   "mimetype": "text/x-python",
   "name": "python",
   "nbconvert_exporter": "python",
   "pygments_lexer": "ipython3",
   "version": "3.12.4"
  }
 },
 "nbformat": 4,
 "nbformat_minor": 0
}
